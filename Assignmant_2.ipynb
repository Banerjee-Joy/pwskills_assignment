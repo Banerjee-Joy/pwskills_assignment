{
 "cells": [
  {
   "cell_type": "markdown",
   "id": "5092a2bc-2f2d-4fd6-808d-7a1769b41031",
   "metadata": {},
   "source": [
    "**Q1.**\n",
    "**Write a program to accept percentage from the user and display the grade according to the following criteria.**"
   ]
  },
  {
   "cell_type": "raw",
   "id": "313a7aaa-c838-4dc6-8e2a-b06dc08f1313",
   "metadata": {},
   "source": [
    "+-------------++-----+\n",
    "|    Marks    ||Grade|\n",
    "+-------------++-----+\n",
    "|    >90      ||  A  |\n",
    "|>80 and <=90 ||  B  |\n",
    "|>=60 and <=80||  C  |\n",
    "|   below 60  ||  D  |\n",
    "+-------------++-----+"
   ]
  },
  {
   "cell_type": "code",
   "execution_count": 2,
   "id": "3f356363-836a-4dc2-8219-afb22c92f84a",
   "metadata": {},
   "outputs": [
    {
     "name": "stdin",
     "output_type": "stream",
     "text": [
      "Enter your marks here:-  96\n"
     ]
    },
    {
     "name": "stdout",
     "output_type": "stream",
     "text": [
      "Your Grade is A\n"
     ]
    }
   ],
   "source": [
    "marks = int(input(\"Enter your marks here:- \"))\n",
    "if marks>90:\n",
    "    print(\"Your Grade is A\")\n",
    "elif marks>80 and marks<=90:\n",
    "    print(\"Your Grade is B\")\n",
    "elif marks>=60 and marks<=80:\n",
    "    print(\"Your Grade is C\")\n",
    "elif marks>=0 and marks<60:\n",
    "    print(\"Your Grade is D\")\n",
    "else:\n",
    "    print(\"Invalid marks\")"
   ]
  },
  {
   "cell_type": "markdown",
   "id": "0fa2e279-1e35-4eb5-b53c-4df17846cc7b",
   "metadata": {},
   "source": [
    "\n",
    "\n"
   ]
  },
  {
   "cell_type": "markdown",
   "id": "76602d39-1132-452b-a096-8085a5e58901",
   "metadata": {},
   "source": [
    "**Q2. Write a program to accept the cost price of a bike and display the road tax to be paid according to the folllowing criteria.**"
   ]
  },
  {
   "cell_type": "raw",
   "id": "84e5512a-e0a7-488f-8fc4-a4d97caed308",
   "metadata": {},
   "source": [
    "+-----++---------------------+\n",
    "| tax ||  Cost Price (in Rs) |\n",
    "+-----++---------------------+\n",
    "| 15% || >100000             |\n",
    "| 10% || >50000 and <= 100000|\n",
    "| 5%  || <=50000             |\n",
    "+-----++---------------------+"
   ]
  },
  {
   "cell_type": "code",
   "execution_count": 3,
   "id": "a73684b6-330e-4dbd-ba25-786ad0af2966",
   "metadata": {},
   "outputs": [
    {
     "name": "stdin",
     "output_type": "stream",
     "text": [
      "Enter the price of your bike here:-  110000\n"
     ]
    },
    {
     "name": "stdout",
     "output_type": "stream",
     "text": [
      "Your road tax is:- 16500.0\n"
     ]
    }
   ],
   "source": [
    "price = int(input(\"Enter the price of your bike here:- \"))\n",
    "print(\"Your road tax is:-\", end = \" \")\n",
    "if price>100000:\n",
    "    tax = price*15/100\n",
    "    print(tax)\n",
    "elif price>50000 and price<=100000:\n",
    "    tax = price*10/100\n",
    "    print(tax)\n",
    "elif price>=0 and price<=50000:\n",
    "    tax = price*5/100\n",
    "    print(tax)\n",
    "else:\n",
    "    print(\"Invalid price\")"
   ]
  },
  {
   "cell_type": "markdown",
   "id": "bbb753f6-459e-4934-8d1e-f53c11ca408f",
   "metadata": {},
   "source": [
    "                "
   ]
  },
  {
   "cell_type": "markdown",
   "id": "36ba6f3d-3eef-41ff-b995-664ce687126d",
   "metadata": {},
   "source": [
    "**Q3. Accept ant city from the user and display monuments of that city.**"
   ]
  },
  {
   "cell_type": "raw",
   "id": "a99b123d-81c1-4384-a59f-1c3837f15137",
   "metadata": {},
   "source": [
    "+--------++-----------+\n",
    "|  City  ||  Monument |\n",
    "+--------++-----------+\n",
    "| Delhi  || Red Fort  |\n",
    "| Agra   || Taj Mahal |\n",
    "| Jaipur || Jal Mahal |\n",
    "+--------++-----------+"
   ]
  },
  {
   "cell_type": "code",
   "execution_count": 4,
   "id": "71f4846e-b494-4e84-802c-18e82b3bf877",
   "metadata": {},
   "outputs": [
    {
     "name": "stdin",
     "output_type": "stream",
     "text": [
      "Enter the name of the city:-  Agra\n"
     ]
    },
    {
     "name": "stdout",
     "output_type": "stream",
     "text": [
      "The monument in Agra is Taj Mahal\n"
     ]
    }
   ],
   "source": [
    "monument = {\"Delhi\":\"Red Fort\", \"Agra\":\"Taj Mahal\",\"Jaipur\":\"Jal Mahal\"}\n",
    "city = input(\"Enter the name of the city:- \")\n",
    "if city not in monument.keys():\n",
    "    print(\"No data available\")\n",
    "else:\n",
    "    print(\"The monument in \" + city + \" is \" + monument[city])"
   ]
  },
  {
   "cell_type": "markdown",
   "id": "1d4c1426-4924-4a12-b9bf-2655a70cfe7e",
   "metadata": {},
   "source": [
    "              "
   ]
  },
  {
   "cell_type": "markdown",
   "id": "8dc15983-ca07-4c1b-a30c-2166490db108",
   "metadata": {},
   "source": [
    "**Q4. Check how many times a given number can be divided by 3 before it is less than or equal to 10.**"
   ]
  },
  {
   "cell_type": "code",
   "execution_count": 5,
   "id": "a4196588-4dcb-47db-afbd-68b1cd4414e3",
   "metadata": {},
   "outputs": [
    {
     "name": "stdin",
     "output_type": "stream",
     "text": [
      "Enter your number:-  500\n"
     ]
    },
    {
     "name": "stdout",
     "output_type": "stream",
     "text": [
      "The answer is 4\n"
     ]
    }
   ],
   "source": [
    "num = int(input(\"Enter your number:- \"))\n",
    "count = 0\n",
    "while num>10:\n",
    "    num = num/3\n",
    "    count = count + 1\n",
    "\n",
    "print(\"The answer is\",count)"
   ]
  },
  {
   "cell_type": "markdown",
   "id": "e1ab0f45-37e8-421c-bc6e-4302a7c55f1d",
   "metadata": {},
   "source": [
    "     "
   ]
  },
  {
   "cell_type": "markdown",
   "id": "b3ff59c8-7a30-4efc-b4e2-48e08aceb5ce",
   "metadata": {},
   "source": [
    "**Q5. Why and when to use while loop in Python? Give a detailed description with examples.**"
   ]
  },
  {
   "cell_type": "markdown",
   "id": "291c877d-a0a9-41dd-99ef-979eeff780c7",
   "metadata": {},
   "source": [
    "**When to use while loop:**\n",
    "\n",
    "* When we don't know before hand how many times we will need to execute the loop.\n",
    "* To keep running the loop until a specific input or condition occurs, often referred to as sentinel values.\n",
    "* For processes that should continue indefinitely until an external event occurs\n",
    "\n",
    "**Why to use while loop:**\n",
    "\n",
    "* It provides more control over the loop as we can exit the loop based on complex condition.\n",
    "* Sometimes a while loop can be more straightforward than a for loop. "
   ]
  },
  {
   "cell_type": "code",
   "execution_count": 6,
   "id": "2acc17ea-07a4-4b2a-8639-0669ba4cc41e",
   "metadata": {},
   "outputs": [
    {
     "name": "stdin",
     "output_type": "stream",
     "text": [
      "Guess the number:-  78\n",
      "Guess the number:-  45\n",
      "Guess the number:-  3\n",
      "Guess the number:-  2\n",
      "Guess the number:-  34\n",
      "Guess the number:-  10\n"
     ]
    },
    {
     "name": "stdout",
     "output_type": "stream",
     "text": [
      "Your guess is right\n"
     ]
    }
   ],
   "source": [
    "# Example program to demonstrate use of while loop\n",
    "\n",
    "num = 0\n",
    "while num!=10:\n",
    "    num = int(input(\"Guess the number:- \"))\n",
    "print(\"Your guess is right\")\n",
    "# Here in this program the user is asked to input a number and it will keep asking until the input is 10\n",
    "# Here the exact number of iteration is unknown as the loop can run infinitely if the user does not provide 10 as input.\n",
    "# So we can not use for loop here. While loop is the only choice."
   ]
  },
  {
   "cell_type": "markdown",
   "id": "0975f916-ae9a-4bf2-a01d-4aff0923dd82",
   "metadata": {},
   "source": [
    "\n",
    "\n"
   ]
  },
  {
   "cell_type": "markdown",
   "id": "3a42e81c-e117-4169-838d-94cc18492662",
   "metadata": {},
   "source": [
    "**Q6. Use nested while loop to print 3 different pattern.**"
   ]
  },
  {
   "cell_type": "code",
   "execution_count": 7,
   "id": "69c6c41a-1d04-45af-8712-01ec38bf7360",
   "metadata": {},
   "outputs": [
    {
     "name": "stdout",
     "output_type": "stream",
     "text": [
      "\n",
      "* \n",
      "* * \n",
      "* * * \n",
      "* * * * \n",
      "* * * * * \n"
     ]
    }
   ],
   "source": [
    "# Pattern 1:-\n",
    "\n",
    "n = 5\n",
    "i = 0\n",
    "while i<=n:\n",
    "    j = 0\n",
    "    while j<i:\n",
    "        print(\"*\", end = \" \")\n",
    "        j = j+1\n",
    "    print()\n",
    "    i = i+1"
   ]
  },
  {
   "cell_type": "code",
   "execution_count": 8,
   "id": "e17835a1-135a-4618-9e62-0dc362b560c4",
   "metadata": {},
   "outputs": [
    {
     "name": "stdout",
     "output_type": "stream",
     "text": [
      "\n",
      "1 \n",
      "2 3 \n",
      "4 5 6 \n",
      "7 8 9 10 \n",
      "11 12 13 14 15 \n"
     ]
    }
   ],
   "source": [
    "# Pattern 2:-\n",
    "\n",
    "n = 5\n",
    "count = 0\n",
    "i = 0\n",
    "while i<=n:\n",
    "    j = 0\n",
    "    while j<i:\n",
    "        count = count + 1\n",
    "        print(count, end = \" \")\n",
    "        j = j+1\n",
    "    print()\n",
    "    i = i+1"
   ]
  },
  {
   "cell_type": "code",
   "execution_count": 9,
   "id": "cbecca03-0027-4d01-b1c7-72438f3909fb",
   "metadata": {},
   "outputs": [
    {
     "name": "stdout",
     "output_type": "stream",
     "text": [
      "     \n",
      "    * \n",
      "   * * \n",
      "  * * * \n",
      " * * * * \n",
      "* * * * * \n"
     ]
    }
   ],
   "source": [
    "# Pattern 3:-\n",
    "\n",
    "n = 5\n",
    "\n",
    "i = 0\n",
    "while i<=n:\n",
    "    j = 0\n",
    "    while j<n-i:\n",
    "        print(\" \", end = \"\")\n",
    "        j = j+1\n",
    "    \n",
    "    j = 0\n",
    "    while j<i:\n",
    "        print(\"*\", end = \" \")\n",
    "        j = j+1\n",
    "    print()\n",
    "    i = i+1"
   ]
  },
  {
   "cell_type": "markdown",
   "id": "92a5fcb6-9131-4462-b8d4-ca5065707871",
   "metadata": {},
   "source": [
    "\n",
    "\n"
   ]
  },
  {
   "cell_type": "markdown",
   "id": "400f8ee1-21a5-4055-8e89-5d2320b9257a",
   "metadata": {},
   "source": [
    "**Q7. Reverse a while loop to display number from 10 to 1.**"
   ]
  },
  {
   "cell_type": "code",
   "execution_count": 10,
   "id": "0c8e9070-c4c2-41ed-8cc7-da1f42d80875",
   "metadata": {},
   "outputs": [
    {
     "name": "stdout",
     "output_type": "stream",
     "text": [
      "10\n",
      "9\n",
      "8\n",
      "7\n",
      "6\n",
      "5\n",
      "4\n",
      "3\n",
      "2\n",
      "1\n"
     ]
    }
   ],
   "source": [
    "num = 10\n",
    "while num>0:\n",
    "    print(num)\n",
    "    num = num - 1\n"
   ]
  },
  {
   "cell_type": "markdown",
   "id": "35ed4391-e1ad-4f01-8238-2ebadcc273ce",
   "metadata": {},
   "source": [
    "\n",
    "\n",
    "\n"
   ]
  },
  {
   "cell_type": "markdown",
   "id": "162398d6-57e3-4cb8-9c14-792d1bfc46dc",
   "metadata": {},
   "source": [
    "**Q8. Reverse a while loop to display number from 10 to 1.**"
   ]
  },
  {
   "cell_type": "code",
   "execution_count": 13,
   "id": "2fc10260-33cf-48e1-b49e-3055303ba8e4",
   "metadata": {},
   "outputs": [
    {
     "name": "stdout",
     "output_type": "stream",
     "text": [
      "10\n",
      "9\n",
      "8\n",
      "7\n",
      "6\n",
      "5\n",
      "4\n",
      "3\n",
      "2\n",
      "1\n"
     ]
    }
   ],
   "source": [
    "num = 10\n",
    "while num>0:\n",
    "    print(num)\n",
    "    num = num - 1\n"
   ]
  },
  {
   "cell_type": "code",
   "execution_count": null,
   "id": "5d76547e-b0ee-4fda-a7a9-59e6b3cd0584",
   "metadata": {},
   "outputs": [],
   "source": []
  }
 ],
 "metadata": {
  "kernelspec": {
   "display_name": "Python 3 (ipykernel)",
   "language": "python",
   "name": "python3"
  },
  "language_info": {
   "codemirror_mode": {
    "name": "ipython",
    "version": 3
   },
   "file_extension": ".py",
   "mimetype": "text/x-python",
   "name": "python",
   "nbconvert_exporter": "python",
   "pygments_lexer": "ipython3",
   "version": "3.10.8"
  }
 },
 "nbformat": 4,
 "nbformat_minor": 5
}
